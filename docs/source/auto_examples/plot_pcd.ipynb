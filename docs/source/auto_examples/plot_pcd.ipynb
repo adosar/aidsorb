{
  "cells": [
    {
      "cell_type": "markdown",
      "metadata": {},
      "source": [
        "\n# Create and visualize a molecular point cloud\n"
      ]
    },
    {
      "cell_type": "code",
      "execution_count": null,
      "metadata": {
        "collapsed": false
      },
      "outputs": [],
      "source": [
        "from plotly.io import show\nfrom aidsorb.utils import pcd_from_file\nfrom aidsorb.visualize import draw_pcd\n\n# sphinx_gallery_thumbnail_number = 2"
      ]
    },
    {
      "cell_type": "markdown",
      "metadata": {},
      "source": [
        "## Create the point cloud\n\n"
      ]
    },
    {
      "cell_type": "code",
      "execution_count": null,
      "metadata": {
        "collapsed": false
      },
      "outputs": [],
      "source": [
        "# We add electronegativity as additional feature to atomic number.\nname, pcd = pcd_from_file('IRMOF-1.xyz', features=['en_pauling'])\n\nprint(f'The name of the point cloud is: {name}')\nprint(f'The point cloud has shape: {pcd.shape}')"
      ]
    },
    {
      "cell_type": "markdown",
      "metadata": {},
      "source": [
        "## Visualize it\n\n"
      ]
    },
    {
      "cell_type": "code",
      "execution_count": null,
      "metadata": {
        "collapsed": false
      },
      "outputs": [],
      "source": [
        "fig = draw_pcd(pcd, scheme='jmol')\nfig.update_layout(margin=dict(b=0, t=0, l=0, r=0))  # Optional.\nshow(fig)"
      ]
    },
    {
      "cell_type": "code",
      "execution_count": null,
      "metadata": {
        "collapsed": false
      },
      "outputs": [],
      "source": [
        "# Color it by electronegativity.\nfig = draw_pcd(pcd, feature_to_color=(4, 'Electronegativity'), colorscale='viridis')\nfig.update_layout(margin=dict(b=0, t=0, l=0, r=0))  # Optional.\nshow(fig)"
      ]
    },
    {
      "cell_type": "markdown",
      "metadata": {},
      "source": [
        ".. tip::\n\n    You can also use the CLI:\n\n```console\n$ aidsorb visualize path/to/structure\n```\n"
      ]
    }
  ],
  "metadata": {
    "kernelspec": {
      "display_name": "Python 3",
      "language": "python",
      "name": "python3"
    },
    "language_info": {
      "codemirror_mode": {
        "name": "ipython",
        "version": 3
      },
      "file_extension": ".py",
      "mimetype": "text/x-python",
      "name": "python",
      "nbconvert_exporter": "python",
      "pygments_lexer": "ipython3",
      "version": "3.12.4"
    }
  },
  "nbformat": 4,
  "nbformat_minor": 0
}